{
 "cells": [
  {
   "cell_type": "code",
   "execution_count": 25,
   "metadata": {},
   "outputs": [
    {
     "data": {
      "text/plain": [
       "['.ipynb_checkpoints', 'MBA.csv', 'MBA.ipynb', 'Online Retail.xlsx']"
      ]
     },
     "execution_count": 25,
     "metadata": {},
     "output_type": "execute_result"
    }
   ],
   "source": [
    "import os\n",
    "import pandas as pd\n",
    "import numpy as np\n",
    "from matplotlib import pyplot as py\n",
    "from mlxtend.frequent_patterns import apriori,association_rules\n",
    "import seaborn as sns\n",
    "os.chdir(\"C:\\\\Users\\\\sudramak\\\\Anaconda-DS\\\\SuperDS projects\\\\Market Basket Analysis\")\n",
    "os.listdir()"
   ]
  },
  {
   "cell_type": "code",
   "execution_count": 2,
   "metadata": {
    "collapsed": true
   },
   "outputs": [],
   "source": [
    "mba = pd.read_csv(\"MBA.csv\")\n",
    "mba['Quantity']=1"
   ]
  },
  {
   "cell_type": "code",
   "execution_count": 3,
   "metadata": {
    "collapsed": true
   },
   "outputs": [],
   "source": [
    "df = mba.groupby(by=['transaction_id','item_name'])['Quantity'].sum().unstack().fillna(0).reset_index().set_index('transaction_id')"
   ]
  },
  {
   "cell_type": "code",
   "execution_count": 4,
   "metadata": {
    "collapsed": true
   },
   "outputs": [],
   "source": [
    "def encode(x):\n",
    "    if x <= 0:\n",
    "        return 0\n",
    "    if x >= 1:\n",
    "        return 1\n",
    "    \n",
    "df_basket = df.applymap(encode)\n",
    "pd.DataFrame()"
   ]
  },
  {
   "cell_type": "code",
   "execution_count": 34,
   "metadata": {
    "collapsed": true
   },
   "outputs": [],
   "source": [
    "frequent_items = pd.DataFrame(index=None)\n",
    "frequent_items = apriori(df_basket,min_support=0.03,use_colnames=True)"
   ]
  },
  {
   "cell_type": "code",
   "execution_count": 66,
   "metadata": {},
   "outputs": [],
   "source": [
    "frequent_item = frequent_items[frequent_items['support']>0.15]"
   ]
  },
  {
   "cell_type": "code",
   "execution_count": 68,
   "metadata": {},
   "outputs": [
    {
     "data": {
      "text/html": [
       "<div>\n",
       "<style>\n",
       "    .dataframe thead tr:only-child th {\n",
       "        text-align: right;\n",
       "    }\n",
       "\n",
       "    .dataframe thead th {\n",
       "        text-align: left;\n",
       "    }\n",
       "\n",
       "    .dataframe tbody tr th {\n",
       "        vertical-align: top;\n",
       "    }\n",
       "</style>\n",
       "<table border=\"1\" class=\"dataframe\">\n",
       "  <thead>\n",
       "    <tr style=\"text-align: right;\">\n",
       "      <th></th>\n",
       "      <th>support</th>\n",
       "      <th>itemsets</th>\n",
       "    </tr>\n",
       "  </thead>\n",
       "  <tbody>\n",
       "    <tr>\n",
       "      <th>1</th>\n",
       "      <td>0.159396</td>\n",
       "      <td>[Apple Pie]</td>\n",
       "    </tr>\n",
       "    <tr>\n",
       "      <th>2</th>\n",
       "      <td>0.163087</td>\n",
       "      <td>[Bannana]</td>\n",
       "    </tr>\n",
       "    <tr>\n",
       "      <th>3</th>\n",
       "      <td>0.157718</td>\n",
       "      <td>[Brown Bread]</td>\n",
       "    </tr>\n",
       "    <tr>\n",
       "      <th>4</th>\n",
       "      <td>0.152349</td>\n",
       "      <td>[Butter]</td>\n",
       "    </tr>\n",
       "    <tr>\n",
       "      <th>6</th>\n",
       "      <td>0.160403</td>\n",
       "      <td>[Chocolate Cake]</td>\n",
       "    </tr>\n",
       "  </tbody>\n",
       "</table>\n",
       "</div>"
      ],
      "text/plain": [
       "    support          itemsets\n",
       "1  0.159396       [Apple Pie]\n",
       "2  0.163087         [Bannana]\n",
       "3  0.157718     [Brown Bread]\n",
       "4  0.152349          [Butter]\n",
       "6  0.160403  [Chocolate Cake]"
      ]
     },
     "execution_count": 68,
     "metadata": {},
     "output_type": "execute_result"
    }
   ],
   "source": [
    "frequent_item.head()"
   ]
  },
  {
   "cell_type": "code",
   "execution_count": 67,
   "metadata": {},
   "outputs": [
    {
     "data": {
      "image/png": "[encoded data removed]",
      "text/plain": [
       "<matplotlib.figure.Figure at 0x27e5cebe898>"
      ]
     },
     "metadata": {},
     "output_type": "display_data"
    }
   ],
   "source": [
    "ax = frequent_item.plot.bar(x='itemsets',y='support')\n",
    "py.show()"
   ]
  },
  {
   "cell_type": "code",
   "execution_count": 7,
   "metadata": {
    "collapsed": true
   },
   "outputs": [],
   "source": [
    "rules = pd.DataFrame()\n",
    "rules = association_rules(frequent_items,metric='lift',min_threshold=1)"
   ]
  },
  {
   "cell_type": "code",
   "execution_count": 8,
   "metadata": {},
   "outputs": [
    {
     "data": {
      "text/html": [
       "<div>\n",
       "<style>\n",
       "    .dataframe thead tr:only-child th {\n",
       "        text-align: right;\n",
       "    }\n",
       "\n",
       "    .dataframe thead th {\n",
       "        text-align: left;\n",
       "    }\n",
       "\n",
       "    .dataframe tbody tr th {\n",
       "        vertical-align: top;\n",
       "    }\n",
       "</style>\n",
       "<table border=\"1\" class=\"dataframe\">\n",
       "  <thead>\n",
       "    <tr style=\"text-align: right;\">\n",
       "      <th></th>\n",
       "      <th>antecedants</th>\n",
       "      <th>consequents</th>\n",
       "      <th>support</th>\n",
       "      <th>confidence</th>\n",
       "      <th>lift</th>\n",
       "    </tr>\n",
       "  </thead>\n",
       "  <tbody>\n",
       "    <tr>\n",
       "      <th>76</th>\n",
       "      <td>(White Bread)</td>\n",
       "      <td>(Chocolate Cake)</td>\n",
       "      <td>0.154362</td>\n",
       "      <td>0.195652</td>\n",
       "      <td>1.219756</td>\n",
       "    </tr>\n",
       "    <tr>\n",
       "      <th>30</th>\n",
       "      <td>(Strawberries)</td>\n",
       "      <td>(Bannana)</td>\n",
       "      <td>0.153020</td>\n",
       "      <td>0.197368</td>\n",
       "      <td>1.210201</td>\n",
       "    </tr>\n",
       "    <tr>\n",
       "      <th>31</th>\n",
       "      <td>(Bannana)</td>\n",
       "      <td>(Strawberries)</td>\n",
       "      <td>0.163087</td>\n",
       "      <td>0.185185</td>\n",
       "      <td>1.210201</td>\n",
       "    </tr>\n",
       "    <tr>\n",
       "      <th>42</th>\n",
       "      <td>(Brown Bread)</td>\n",
       "      <td>(Chocolate Cake)</td>\n",
       "      <td>0.157718</td>\n",
       "      <td>0.193617</td>\n",
       "      <td>1.207068</td>\n",
       "    </tr>\n",
       "    <tr>\n",
       "      <th>43</th>\n",
       "      <td>(Chocolate Cake)</td>\n",
       "      <td>(Brown Bread)</td>\n",
       "      <td>0.160403</td>\n",
       "      <td>0.190377</td>\n",
       "      <td>1.207068</td>\n",
       "    </tr>\n",
       "  </tbody>\n",
       "</table>\n",
       "</div>"
      ],
      "text/plain": [
       "         antecedants       consequents   support  confidence      lift\n",
       "76     (White Bread)  (Chocolate Cake)  0.154362    0.195652  1.219756\n",
       "30    (Strawberries)         (Bannana)  0.153020    0.197368  1.210201\n",
       "31         (Bannana)    (Strawberries)  0.163087    0.185185  1.210201\n",
       "42     (Brown Bread)  (Chocolate Cake)  0.157718    0.193617  1.207068\n",
       "43  (Chocolate Cake)     (Brown Bread)  0.160403    0.190377  1.207068"
      ]
     },
     "execution_count": 8,
     "metadata": {},
     "output_type": "execute_result"
    }
   ],
   "source": [
    "rules.sort_values(by=['lift'],ascending=False).tail(5)"
   ]
  }
 ],
 "metadata": {
  "kernelspec": {
   "display_name": "Python 3",
   "language": "python",
   "name": "python3"
  },
  "language_info": {
   "codemirror_mode": {
    "name": "ipython",
    "version": 3
   },
   "file_extension": ".py",
   "mimetype": "text/x-python",
   "name": "python",
   "nbconvert_exporter": "python",
   "pygments_lexer": "ipython3",
   "version": "3.6.3"
  }
 },
 "nbformat": 4,
 "nbformat_minor": 2
}
